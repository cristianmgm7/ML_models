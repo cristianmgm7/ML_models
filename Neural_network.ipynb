{
 "cells": [
  {
   "cell_type": "markdown",
   "metadata": {},
   "source": [
    "A Perceptron is one of the simplest forms of artificial neural networks, and it's used for binary classification tasks. It was developed by Frank Rosenblatt in the late 1950s and is often considered the building block of more complex neural networks. Here's how a Perceptron works:\n",
    "\n",
    "1. **Input Data**: The Perceptron takes a set of input values (features). Each input is associated with a weight, which reflects its importance in making a decision. These weights are initially assigned random values.\n",
    "\n",
    "2. **Weighted Sum**: The Perceptron calculates the weighted sum of its inputs. This is done by multiplying each input by its corresponding weight and summing up these products.\n",
    "\n",
    "   Weighted Sum = (Input 1 * Weight 1) + (Input 2 * Weight 2) + ... + (Input n * Weight n)\n",
    "\n",
    "3. **Activation Function**: The weighted sum is then passed through an activation function, typically a step function or a threshold function. The most common activation function used in Perceptrons is the step function. If the weighted sum is above a certain threshold, the Perceptron outputs one class (usually \"1\"), and if it's below the threshold, it outputs the other class (usually \"0\").\n",
    "\n",
    "   Output = 1 if Weighted Sum ≥ Threshold\n",
    "   Output = 0 if Weighted Sum < Threshold\n",
    "\n",
    "4. **Bias**: In addition to the weighted inputs, a bias term is often included. The bias allows the Perceptron to shift its decision boundary. It's like an extra weight that's always multiplied by 1 (the bias input is always 1).\n",
    "\n",
    "5. **Learning**: The Perceptron's weights and bias are adjusted during training using a learning algorithm, typically the perceptron learning rule. This rule updates the weights and bias based on the error in the Perceptron's predictions. If the Perceptron makes an incorrect prediction, it adjusts the weights to reduce the error.\n",
    "\n",
    "The primary goal of a Perceptron is to find a set of weights and a bias term that allows it to correctly classify data points. It can learn to create a decision boundary (hyperplane) that separates two classes of data. However, Perceptrons have limitations; they can only solve linearly separable problems. For more complex tasks, multi-layer neural networks like Multi-Layer Perceptrons (MLPs) are used."
   ]
  },
  {
   "cell_type": "code",
   "execution_count": 13,
   "metadata": {},
   "outputs": [],
   "source": [
    "import numpy as np\n",
    "import pandas as pd\n",
    "import matplotlib.pyplot as plt\n",
    "import seaborn as sns\n",
    "import tensorflow as tf"
   ]
  },
  {
   "cell_type": "code",
   "execution_count": 12,
   "metadata": {},
   "outputs": [],
   "source": [
    "# Crear una lista de temperaturas en grados Fahrenheit\n",
    "fahrenheit_temperatures = [32, 40, 50, 60, 70, 80, 90, 100, 110, 120]\n",
    "\n",
    "# Calcular los equivalentes en grados Celsius\n",
    "celsius_temperatures = [(f - 32) / 1.8 for f in fahrenheit_temperatures]\n",
    "\n",
    "# Crear el DataFrame\n",
    "df = pd.DataFrame({'Fahrenheit': fahrenheit_temperatures, 'Celsius': celsius_temperatures})\n"
   ]
  },
  {
   "cell_type": "code",
   "execution_count": 14,
   "metadata": {},
   "outputs": [],
   "source": [
    "X = df['Celsius'].values\n",
    "y = df['Fahrenheit'].values"
   ]
  },
  {
   "cell_type": "code",
   "execution_count": 15,
   "metadata": {},
   "outputs": [
    {
     "name": "stderr",
     "output_type": "stream",
     "text": [
      "WARNING:absl:At this time, the v2.11+ optimizer `tf.keras.optimizers.Adam` runs slowly on M1/M2 Macs, please use the legacy Keras optimizer instead, located at `tf.keras.optimizers.legacy.Adam`.\n"
     ]
    },
    {
     "name": "stderr",
     "output_type": "stream",
     "text": [
      "WARNING:absl:There is a known slowdown when using v2.11+ Keras optimizers on M1/M2 Macs. Falling back to the legacy Keras optimizer, i.e., `tf.keras.optimizers.legacy.Adam`.\n"
     ]
    }
   ],
   "source": [
    "model = tf.keras.models.Sequential([\n",
    "    tf.keras.layers.InputLayer(input_shape=(1,)),\n",
    "    tf.keras.layers.Dense(units=1)\n",
    "])\n",
    "model.compile(\n",
    "    loss='mean_squared_error',\n",
    "    optimizer=tf.keras.optimizers.Adam(0.1)\n",
    ")"
   ]
  },
  {
   "cell_type": "code",
   "execution_count": 17,
   "metadata": {},
   "outputs": [],
   "source": [
    "train = model.fit(X, y, epochs=1200, verbose=0)"
   ]
  },
  {
   "cell_type": "code",
   "execution_count": 19,
   "metadata": {},
   "outputs": [
    {
     "data": {
      "text/plain": [
       "Text(0, 0.5, 'Loss')"
      ]
     },
     "execution_count": 19,
     "metadata": {},
     "output_type": "execute_result"
    },
    {
     "data": {
      "image/png": "[encoded data removed]",
      "text/plain": [
       "<Figure size 640x480 with 1 Axes>"
      ]
     },
     "metadata": {},
     "output_type": "display_data"
    }
   ],
   "source": [
    "plt.plot(train.history['loss'])\n",
    "plt.title('Loss')\n",
    "plt.xlabel('Epoch')\n",
    "plt.ylabel('Loss')"
   ]
  },
  {
   "cell_type": "code",
   "execution_count": 22,
   "metadata": {},
   "outputs": [
    {
     "name": "stdout",
     "output_type": "stream",
     "text": [
      "1/1 [==============================] - 0s 27ms/step\n",
      "predicion: 123,son: [253.40019] Fahrenheit\n"
     ]
    }
   ],
   "source": [
    "# Predecir  \n",
    "h = 123\n",
    "y_pred = model.predict([h])\n",
    "print(f'predicion: {h},son: {y_pred[0]} Fahrenheit')\n"
   ]
  },
  {
   "cell_type": "code",
   "execution_count": 23,
   "metadata": {},
   "outputs": [
    {
     "name": "stdout",
     "output_type": "stream",
     "text": [
      "[array([[1.8000022]], dtype=float32), array([31.999922], dtype=float32)]\n"
     ]
    }
   ],
   "source": [
    "print(model.get_weights())"
   ]
  }
 ],
 "metadata": {
  "kernelspec": {
   "display_name": "base",
   "language": "python",
   "name": "python3"
  },
  "language_info": {
   "codemirror_mode": {
    "name": "ipython",
    "version": 3
   },
   "file_extension": ".py",
   "mimetype": "text/x-python",
   "name": "python",
   "nbconvert_exporter": "python",
   "pygments_lexer": "ipython3",
   "version": "3.11.5"
  }
 },
 "nbformat": 4,
 "nbformat_minor": 2
}
