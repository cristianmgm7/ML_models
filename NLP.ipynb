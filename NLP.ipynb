{
 "cells": [
  {
   "cell_type": "code",
   "execution_count": 9,
   "metadata": {},
   "outputs": [
    {
     "name": "stdout",
     "output_type": "stream",
     "text": [
      "Epoch 1/1000\n"
     ]
    },
    {
     "ename": "ValueError",
     "evalue": "in user code:\n\n    File \"/Applications/anaconda3/lib/python3.11/site-packages/keras/engine/training.py\", line 1284, in train_function  *\n        return step_function(self, iterator)\n    File \"/Applications/anaconda3/lib/python3.11/site-packages/keras/engine/training.py\", line 1268, in step_function  **\n        outputs = model.distribute_strategy.run(run_step, args=(data,))\n    File \"/Applications/anaconda3/lib/python3.11/site-packages/keras/engine/training.py\", line 1249, in run_step  **\n        outputs = model.train_step(data)\n    File \"/Applications/anaconda3/lib/python3.11/site-packages/keras/engine/training.py\", line 1051, in train_step\n        loss = self.compute_loss(x, y, y_pred, sample_weight)\n    File \"/Applications/anaconda3/lib/python3.11/site-packages/keras/engine/training.py\", line 1109, in compute_loss\n        return self.compiled_loss(\n    File \"/Applications/anaconda3/lib/python3.11/site-packages/keras/engine/compile_utils.py\", line 265, in __call__\n        loss_value = loss_obj(y_t, y_p, sample_weight=sw)\n    File \"/Applications/anaconda3/lib/python3.11/site-packages/keras/losses.py\", line 142, in __call__\n        losses = call_fn(y_true, y_pred)\n    File \"/Applications/anaconda3/lib/python3.11/site-packages/keras/losses.py\", line 268, in call  **\n        return ag_fn(y_true, y_pred, **self._fn_kwargs)\n    File \"/Applications/anaconda3/lib/python3.11/site-packages/keras/losses.py\", line 1470, in mean_squared_error\n        return backend.mean(tf.math.squared_difference(y_pred, y_true), axis=-1)\n\n    ValueError: Dimensions must be equal, but are 2 and 10 for '{{node mean_squared_error/SquaredDifference}} = SquaredDifference[T=DT_FLOAT](sequential_8/dense_26/BiasAdd, mean_squared_error/Cast)' with input shapes: [?,2], [?,10].\n",
     "output_type": "error",
     "traceback": [
      "\u001b[0;31m---------------------------------------------------------------------------\u001b[0m",
      "\u001b[0;31mValueError\u001b[0m                                Traceback (most recent call last)",
      "\u001b[1;32m/Users/cristianmurillo/Documents/Data scientis /Machine learning models /NLP.ipynb Cell 1\u001b[0m line \u001b[0;36m2\n\u001b[1;32m     <a href='vscode-notebook-cell:/Users/cristianmurillo/Documents/Data%20scientis%20/Machine%20learning%20models%20/NLP.ipynb#W0sZmlsZQ%3D%3D?line=25'>26</a>\u001b[0m modelo\u001b[39m.\u001b[39mcompile(optimizer\u001b[39m=\u001b[39m\u001b[39m'\u001b[39m\u001b[39madam\u001b[39m\u001b[39m'\u001b[39m, loss\u001b[39m=\u001b[39m\u001b[39m'\u001b[39m\u001b[39mmean_squared_error\u001b[39m\u001b[39m'\u001b[39m)\n\u001b[1;32m     <a href='vscode-notebook-cell:/Users/cristianmurillo/Documents/Data%20scientis%20/Machine%20learning%20models%20/NLP.ipynb#W0sZmlsZQ%3D%3D?line=27'>28</a>\u001b[0m \u001b[39m# Entrenar el modelo\u001b[39;00m\n\u001b[0;32m---> <a href='vscode-notebook-cell:/Users/cristianmurillo/Documents/Data%20scientis%20/Machine%20learning%20models%20/NLP.ipynb#W0sZmlsZQ%3D%3D?line=28'>29</a>\u001b[0m modelo\u001b[39m.\u001b[39mfit(datos_entrenamiento, datos_entrenamiento, epochs\u001b[39m=\u001b[39m\u001b[39m1000\u001b[39m)\n\u001b[1;32m     <a href='vscode-notebook-cell:/Users/cristianmurillo/Documents/Data%20scientis%20/Machine%20learning%20models%20/NLP.ipynb#W0sZmlsZQ%3D%3D?line=30'>31</a>\u001b[0m \u001b[39m# Obtener los embeddings\u001b[39;00m\n\u001b[1;32m     <a href='vscode-notebook-cell:/Users/cristianmurillo/Documents/Data%20scientis%20/Machine%20learning%20models%20/NLP.ipynb#W0sZmlsZQ%3D%3D?line=31'>32</a>\u001b[0m embeddings \u001b[39m=\u001b[39m modelo\u001b[39m.\u001b[39mpredict(datos_entrenamiento)\n",
      "File \u001b[0;32m/Applications/anaconda3/lib/python3.11/site-packages/keras/utils/traceback_utils.py:70\u001b[0m, in \u001b[0;36mfilter_traceback.<locals>.error_handler\u001b[0;34m(*args, **kwargs)\u001b[0m\n\u001b[1;32m     67\u001b[0m     filtered_tb \u001b[39m=\u001b[39m _process_traceback_frames(e\u001b[39m.\u001b[39m__traceback__)\n\u001b[1;32m     68\u001b[0m     \u001b[39m# To get the full stack trace, call:\u001b[39;00m\n\u001b[1;32m     69\u001b[0m     \u001b[39m# `tf.debugging.disable_traceback_filtering()`\u001b[39;00m\n\u001b[0;32m---> 70\u001b[0m     \u001b[39mraise\u001b[39;00m e\u001b[39m.\u001b[39mwith_traceback(filtered_tb) \u001b[39mfrom\u001b[39;00m \u001b[39mNone\u001b[39;00m\n\u001b[1;32m     71\u001b[0m \u001b[39mfinally\u001b[39;00m:\n\u001b[1;32m     72\u001b[0m     \u001b[39mdel\u001b[39;00m filtered_tb\n",
      "File \u001b[0;32m/var/folders/2s/pqhnf_qn3c1g66nvczhrmldw0000gn/T/__autograph_generated_file3et2ufqq.py:15\u001b[0m, in \u001b[0;36mouter_factory.<locals>.inner_factory.<locals>.tf__train_function\u001b[0;34m(iterator)\u001b[0m\n\u001b[1;32m     13\u001b[0m \u001b[39mtry\u001b[39;00m:\n\u001b[1;32m     14\u001b[0m     do_return \u001b[39m=\u001b[39m \u001b[39mTrue\u001b[39;00m\n\u001b[0;32m---> 15\u001b[0m     retval_ \u001b[39m=\u001b[39m ag__\u001b[39m.\u001b[39mconverted_call(ag__\u001b[39m.\u001b[39mld(step_function), (ag__\u001b[39m.\u001b[39mld(\u001b[39mself\u001b[39m), ag__\u001b[39m.\u001b[39mld(iterator)), \u001b[39mNone\u001b[39;00m, fscope)\n\u001b[1;32m     16\u001b[0m \u001b[39mexcept\u001b[39;00m:\n\u001b[1;32m     17\u001b[0m     do_return \u001b[39m=\u001b[39m \u001b[39mFalse\u001b[39;00m\n",
      "\u001b[0;31mValueError\u001b[0m: in user code:\n\n    File \"/Applications/anaconda3/lib/python3.11/site-packages/keras/engine/training.py\", line 1284, in train_function  *\n        return step_function(self, iterator)\n    File \"/Applications/anaconda3/lib/python3.11/site-packages/keras/engine/training.py\", line 1268, in step_function  **\n        outputs = model.distribute_strategy.run(run_step, args=(data,))\n    File \"/Applications/anaconda3/lib/python3.11/site-packages/keras/engine/training.py\", line 1249, in run_step  **\n        outputs = model.train_step(data)\n    File \"/Applications/anaconda3/lib/python3.11/site-packages/keras/engine/training.py\", line 1051, in train_step\n        loss = self.compute_loss(x, y, y_pred, sample_weight)\n    File \"/Applications/anaconda3/lib/python3.11/site-packages/keras/engine/training.py\", line 1109, in compute_loss\n        return self.compiled_loss(\n    File \"/Applications/anaconda3/lib/python3.11/site-packages/keras/engine/compile_utils.py\", line 265, in __call__\n        loss_value = loss_obj(y_t, y_p, sample_weight=sw)\n    File \"/Applications/anaconda3/lib/python3.11/site-packages/keras/losses.py\", line 142, in __call__\n        losses = call_fn(y_true, y_pred)\n    File \"/Applications/anaconda3/lib/python3.11/site-packages/keras/losses.py\", line 268, in call  **\n        return ag_fn(y_true, y_pred, **self._fn_kwargs)\n    File \"/Applications/anaconda3/lib/python3.11/site-packages/keras/losses.py\", line 1470, in mean_squared_error\n        return backend.mean(tf.math.squared_difference(y_pred, y_true), axis=-1)\n\n    ValueError: Dimensions must be equal, but are 2 and 10 for '{{node mean_squared_error/SquaredDifference}} = SquaredDifference[T=DT_FLOAT](sequential_8/dense_26/BiasAdd, mean_squared_error/Cast)' with input shapes: [?,2], [?,10].\n"
     ]
    }
   ],
   "source": [
    "import numpy as np\n",
    "import tensorflow as tf\n",
    "from tensorflow.keras.layers import Dense\n",
    "\n",
    "# Lista de palabras en tu idioma\n",
    "vocabulario = [\"palabra1\", \"palabra2\", \"palabra3\", \"palabra4\", \"palabra5\", \"palabra6\", \"palabra7\", \"palabra8\", \"palabra9\", \"palabra10\"]\n",
    "\n",
    "# Crear one-hot encoding para las palabras\n",
    "def one_hot_encoding(palabra, vocabulario):\n",
    "    vector = [0] * len(vocabulario)\n",
    "    vector[vocabulario.index(palabra)] = 1\n",
    "    return vector\n",
    "\n",
    "# Generar datos de ejemplo\n",
    "datos_entrenamiento = [one_hot_encoding(palabra, vocabulario) for palabra in vocabulario]\n",
    "datos_entrenamiento = np.array(datos_entrenamiento)\n",
    "\n",
    "# Crear una red neuronal para generar embeddings\n",
    "modelo = tf.keras.Sequential([\n",
    "    Dense(8, input_shape=(len(vocabulario),), activation='relu'),\n",
    "    Dense(4, activation='relu'),\n",
    "    Dense(2)  # No aplicamos una función de activación en la capa de salida\n",
    "])\n",
    "\n",
    "# Compilar el modelo\n",
    "modelo.compile(optimizer='adam', loss='mean_squared_error')\n",
    "\n",
    "# Entrenar el modelo\n",
    "modelo.fit(datos_entrenamiento, datos_entrenamiento, epochs=1000)\n",
    "\n",
    "# Obtener los embeddings\n",
    "embeddings = modelo.predict(datos_entrenamiento)\n",
    "\n",
    "print(\"Embeddings:\")\n",
    "print(embeddings)\n"
   ]
  }
 ],
 "metadata": {
  "kernelspec": {
   "display_name": "base",
   "language": "python",
   "name": "python3"
  },
  "language_info": {
   "codemirror_mode": {
    "name": "ipython",
    "version": 3
   },
   "file_extension": ".py",
   "mimetype": "text/x-python",
   "name": "python",
   "nbconvert_exporter": "python",
   "pygments_lexer": "ipython3",
   "version": "3.11.5"
  }
 },
 "nbformat": 4,
 "nbformat_minor": 2
}
