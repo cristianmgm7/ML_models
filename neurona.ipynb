{
 "cells": [
  {
   "cell_type": "code",
   "execution_count": 5,
   "metadata": {},
   "outputs": [
    {
     "ename": "ValueError",
     "evalue": "shapes (36,) and (6,) not aligned: 36 (dim 0) != 6 (dim 0)",
     "output_type": "error",
     "traceback": [
      "\u001b[0;31m---------------------------------------------------------------------------\u001b[0m",
      "\u001b[0;31mValueError\u001b[0m                                Traceback (most recent call last)",
      "\u001b[1;32m/Users/cristianmurillo/Documents/Data scientis /Machine learning models /neurona.ipynb Cell 1\u001b[0m line \u001b[0;36m2\n\u001b[1;32m     <a href='vscode-notebook-cell:/Users/cristianmurillo/Documents/Data%20scientis%20/Machine%20learning%20models%20/neurona.ipynb#W0sZmlsZQ%3D%3D?line=19'>20</a>\u001b[0m     \u001b[39mreturn\u001b[39;00m \u001b[39m1\u001b[39m \u001b[39m/\u001b[39m (\u001b[39m1\u001b[39m \u001b[39m+\u001b[39m np\u001b[39m.\u001b[39mexp(\u001b[39m-\u001b[39mx))\n\u001b[1;32m     <a href='vscode-notebook-cell:/Users/cristianmurillo/Documents/Data%20scientis%20/Machine%20learning%20models%20/neurona.ipynb#W0sZmlsZQ%3D%3D?line=21'>22</a>\u001b[0m \u001b[39m# Cálculo en la neurona\u001b[39;00m\n\u001b[0;32m---> <a href='vscode-notebook-cell:/Users/cristianmurillo/Documents/Data%20scientis%20/Machine%20learning%20models%20/neurona.ipynb#W0sZmlsZQ%3D%3D?line=22'>23</a>\u001b[0m entrada_neurona \u001b[39m=\u001b[39m np\u001b[39m.\u001b[39mdot(vector_imagen, pesos) \u001b[39m+\u001b[39m sesgo\n\u001b[1;32m     <a href='vscode-notebook-cell:/Users/cristianmurillo/Documents/Data%20scientis%20/Machine%20learning%20models%20/neurona.ipynb#W0sZmlsZQ%3D%3D?line=23'>24</a>\u001b[0m salida_neurona \u001b[39m=\u001b[39m sigmoid(entrada_neurona)\n\u001b[1;32m     <a href='vscode-notebook-cell:/Users/cristianmurillo/Documents/Data%20scientis%20/Machine%20learning%20models%20/neurona.ipynb#W0sZmlsZQ%3D%3D?line=25'>26</a>\u001b[0m \u001b[39m# Imprimir el vector de imagen aplanado\u001b[39;00m\n",
      "File \u001b[0;32m<__array_function__ internals>:180\u001b[0m, in \u001b[0;36mdot\u001b[0;34m(*args, **kwargs)\u001b[0m\n",
      "\u001b[0;31mValueError\u001b[0m: shapes (36,) and (6,) not aligned: 36 (dim 0) != 6 (dim 0)"
     ]
    }
   ],
   "source": [
    "import numpy as np\n",
    "\n",
    "# Crear una imagen de ejemplo (valores de intensidad)\n",
    "imagen_ejemplo = np.array([0.1, 0.2, 0.3, 0.4, 0.5, 0.6],\n",
    "                          [0.7, 0.8, 0.9, 0.1, 0.2, 0.3],\n",
    "                          [0.4, 0.5, 0.6, 0.7, 0.8, 0.9],\n",
    "                          [0.1, 0.2, 0.3, 0.4, 0.5, 0.6],\n",
    "                          [0.7, 0.8, 0.9, 0.1, 0.2, 0.3],\n",
    "                          [0.4, 0.5, 0.6, 0.7, 0.8, 0.9])\n",
    "\n",
    "# Aplanar la imagen en un vector (también llamado \"flatten\")\n",
    "vector_imagen = imagen_ejemplo.flatten()\n",
    "\n",
    "# Parámetros de la neurona (ahora con pesos que coinciden en tamaño)\n",
    "pesos = np.array([0.1, 0.2, 0.3, 0.4, 0.5, 0.6, 0.7, 0.8, 0.9, 0.1, 0.2, 0.3, 0.4, 0.5, 0.6, 0.7, 0.8, 0.9, 0.1, 0.2, 0.3, 0.4, 0.5, 0.6, 0.7, 0.8, 0.9, 0.1, 0.2, 0.3, 0.4, 0.5, 0.6])\n",
    "sesgo = 0.4\n",
    "\n",
    "# Función de activación (sigmoidal)\n",
    "def sigmoid(x):\n",
    "    return 1 / (1 + np.exp(-x))\n",
    "\n",
    "# Cálculo en la neurona\n",
    "entrada_neurona = np.dot(vector_imagen, pesos) + sesgo\n",
    "salida_neurona = sigmoid(entrada_neurona)\n",
    "\n",
    "# Imprimir el vector de imagen aplanado\n",
    "print(\"Vector de imagen aplanado:\")\n",
    "print(vector_imagen)\n",
    "\n",
    "# Imprimir la entrada y salida de la neurona\n",
    "print(\"Entrada de la neurona:\", entrada_neurona)\n",
    "print(\"Salida de la neurona:\", salida_neurona)\n"
   ]
  }
 ],
 "metadata": {
  "kernelspec": {
   "display_name": "base",
   "language": "python",
   "name": "python3"
  },
  "language_info": {
   "codemirror_mode": {
    "name": "ipython",
    "version": 3
   },
   "file_extension": ".py",
   "mimetype": "text/x-python",
   "name": "python",
   "nbconvert_exporter": "python",
   "pygments_lexer": "ipython3",
   "version": "3.11.5"
  }
 },
 "nbformat": 4,
 "nbformat_minor": 2
}
